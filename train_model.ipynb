{
 "cells": [
  {
   "cell_type": "code",
   "execution_count": 70,
   "metadata": {},
   "outputs": [],
   "source": [
    "!pip install tensorflow pillow matplotlib  Image --quiet \n"
   ]
  },
  {
   "cell_type": "code",
   "execution_count": 2,
   "metadata": {},
   "outputs": [
    {
     "name": "stdout",
     "output_type": "stream",
     "text": [
      "Found 8456 images belonging to 70 classes.\n",
      "Found 8456 images belonging to 70 classes.\n",
      "Epoch 1/10\n",
      "264/264 [==============================] - 750s 3s/step - loss: 2.1186 - accuracy: 0.7419 - val_loss: 0.6452 - val_accuracy: 0.8299\n",
      "Epoch 2/10\n",
      "264/264 [==============================] - 617s 2s/step - loss: 0.7351 - accuracy: 0.8202 - val_loss: 0.5798 - val_accuracy: 0.8486\n",
      "Epoch 3/10\n",
      "264/264 [==============================] - 637s 2s/step - loss: 0.6631 - accuracy: 0.8343 - val_loss: 0.5793 - val_accuracy: 0.8625\n",
      "Epoch 4/10\n",
      "264/264 [==============================] - 676s 3s/step - loss: 0.6515 - accuracy: 0.8418 - val_loss: 0.5232 - val_accuracy: 0.8582\n",
      "Epoch 5/10\n",
      "264/264 [==============================] - 799s 3s/step - loss: 0.6493 - accuracy: 0.8446 - val_loss: 0.4564 - val_accuracy: 0.8806\n",
      "Epoch 6/10\n",
      "264/264 [==============================] - 671s 3s/step - loss: 0.5879 - accuracy: 0.8564 - val_loss: 0.5143 - val_accuracy: 0.8726\n",
      "Epoch 7/10\n",
      "264/264 [==============================] - 653s 2s/step - loss: 0.5845 - accuracy: 0.8646 - val_loss: 0.5029 - val_accuracy: 0.8778\n",
      "Epoch 8/10\n",
      "264/264 [==============================] - 663s 3s/step - loss: 0.5944 - accuracy: 0.8617 - val_loss: 0.3624 - val_accuracy: 0.9003\n",
      "Epoch 9/10\n",
      "264/264 [==============================] - 675s 3s/step - loss: 0.5856 - accuracy: 0.8591 - val_loss: 0.4924 - val_accuracy: 0.8733\n",
      "Epoch 10/10\n",
      "264/264 [==============================] - 669s 3s/step - loss: 0.5824 - accuracy: 0.8678 - val_loss: 0.4597 - val_accuracy: 0.8840\n"
     ]
    },
    {
     "name": "stderr",
     "output_type": "stream",
     "text": [
      "c:\\Users\\haric\\AppData\\Local\\Programs\\Python\\Python39\\lib\\site-packages\\keras\\src\\engine\\training.py:3079: UserWarning: You are saving your model as an HDF5 file via `model.save()`. This file format is considered legacy. We recommend using instead the native Keras format, e.g. `model.save('my_model.keras')`.\n",
      "  saving_api.save_model(\n"
     ]
    }
   ],
   "source": [
    "import matplotlib.pyplot as plt\n",
    "import tensorflow as tf\n",
    "from tensorflow.keras.applications.inception_v3 import InceptionV3\n",
    "from tensorflow.keras.preprocessing.image import ImageDataGenerator\n",
    "from tensorflow.keras.layers import Dense, GlobalAveragePooling2D\n",
    "from tensorflow.keras.models import Model\n",
    "from tensorflow.keras.optimizers import Adam\n",
    "\n",
    "train_dir = \"E:/project/pet_adoption_matching_algorithm/dataset/animal/dog\"\n",
    "test_dir = \"E:/project/pet_adoption_matching_algorithm/dataset/animal/dog\"\n",
    "\n",
    "num_classes = 70\n",
    "image_size = (224, 224)  # Corrected variable name\n",
    "batch_size = 32\n",
    "learning_rate = 0.01\n",
    "epochs = 10\n",
    "\n",
    "training_data = ImageDataGenerator(\n",
    "    rescale=1./255,\n",
    "    shear_range=0.2,\n",
    "    zoom_range=0.2,\n",
    "    horizontal_flip=True\n",
    ")\n",
    "\n",
    "validation_data = ImageDataGenerator(rescale=1./255)\n",
    "\n",
    "base_model = InceptionV3(weights=\"imagenet\", include_top=False, input_shape=(image_size[0], image_size[1], 3))\n",
    "\n",
    "x = base_model.output\n",
    "x = GlobalAveragePooling2D()(x)\n",
    "x = Dense(1024, activation='relu')(x)\n",
    "predictions = Dense(num_classes, activation=\"softmax\")(x)\n",
    "\n",
    "model = Model(inputs=base_model.input, outputs=predictions)\n",
    "\n",
    "for layer in base_model.layers:\n",
    "    layer.trainable = False\n",
    "\n",
    "model.compile(optimizer=Adam(learning_rate=learning_rate), loss='categorical_crossentropy', metrics=[\"accuracy\"])\n",
    "\n",
    "train_generator = training_data.flow_from_directory(\n",
    "    train_dir,\n",
    "    target_size=image_size,  # Corrected variable name\n",
    "    batch_size=batch_size,\n",
    "    class_mode=\"categorical\"\n",
    ")\n",
    "\n",
    "valid_generator = validation_data.flow_from_directory(\n",
    "    test_dir,\n",
    "    target_size=image_size,  # Corrected variable name\n",
    "    batch_size=batch_size,\n",
    "    class_mode=\"categorical\"\n",
    ")\n",
    "\n",
    "# Calculate steps_per_epoch and validation_steps\n",
    "steps_per_epoch = train_generator.samples // batch_size\n",
    "validation_steps = valid_generator.samples // batch_size\n",
    "\n",
    "history = model.fit(\n",
    "    train_generator,\n",
    "    steps_per_epoch=steps_per_epoch,\n",
    "    epochs=epochs,\n",
    "    validation_data=valid_generator,\n",
    "    validation_steps=validation_steps\n",
    ")\n",
    "\n",
    "model.save(\"dogclassification.h5\")\n"
   ]
  },
  {
   "cell_type": "code",
   "execution_count": null,
   "metadata": {},
   "outputs": [],
   "source": []
  }
 ],
 "metadata": {
  "kernelspec": {
   "display_name": ".venv",
   "language": "python",
   "name": "python3"
  },
  "language_info": {
   "codemirror_mode": {
    "name": "ipython",
    "version": 3
   },
   "file_extension": ".py",
   "mimetype": "text/x-python",
   "name": "python",
   "nbconvert_exporter": "python",
   "pygments_lexer": "ipython3",
   "version": "3.9.10"
  }
 },
 "nbformat": 4,
 "nbformat_minor": 2
}
